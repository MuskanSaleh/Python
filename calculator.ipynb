num1 = int(input("Enter a number 1 : "))#10
num2 = int(input("Enter a number 2 : "))#8
opr = input("Enter the opr...")

if opr == "+":
    print(num1+num2)
elif opr == "-":
    print(num1-num2)
elif opr == "*":
    print(num1*num2)
elif opr == "/":
    print(num1/num2)
else:
    print("invalid operator..try  only( +,-,*,/)")
