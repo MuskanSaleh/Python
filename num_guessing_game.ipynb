import random
cnum = random.randrange(1,101)
user_input = int(input("Enter your number: "))
print("your guess number : ",user_input)
if user_input > cnum:
    print("computer number : ",cnum)
    print("Incorrect guess!!Your guess number is too high")
elif user_input < cnum:
    print("computer number : ",cnum)
    print("Incorrect guess!!Your guess number is too low")
else:
    print("computer number : ",cnum)
    print("correct guess!!Your guess num is equal")
